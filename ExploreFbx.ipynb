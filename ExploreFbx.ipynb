{
 "cells": [
  {
   "cell_type": "code",
   "execution_count": 1,
   "metadata": {},
   "outputs": [],
   "source": [
    "import sys\n",
    "import os\n",
    "import math\n",
    "import euclid\n",
    "import mesh\n",
    "import geomgen\n",
    "import fbx"
   ]
  },
  {
   "cell_type": "code",
   "execution_count": 2,
   "metadata": {},
   "outputs": [],
   "source": [
    "sys.path = sys.path + [os.curdir + os.sep + \"fbx2018_1\"]    "
   ]
  },
  {
   "cell_type": "code",
   "execution_count": 3,
   "metadata": {},
   "outputs": [],
   "source": [
    " from FbxCommon import *"
   ]
  },
  {
   "cell_type": "code",
   "execution_count": 4,
   "metadata": {},
   "outputs": [],
   "source": [
    "def create_sdk_manager():\n",
    "    result = FbxManager.Create()\n",
    "    return result\n",
    "\n",
    "def create_scene(manager, name = \"FbxScene\"):\n",
    "    ios = FbxIOSettings.Create(manager, IOSROOT)\n",
    "    manager.SetIOSettings(ios)\n",
    "    scene = FbxScene.Create(manager, name)\n",
    "    return scene\n",
    "\n"
   ]
  },
  {
   "cell_type": "code",
   "execution_count": 5,
   "metadata": {},
   "outputs": [],
   "source": [
    "def load_scene(manager, scene, file_name):\n",
    "    importer = FbxImporter.Create(manager, \"\")    \n",
    "    result = importer.Initialize(file_name, -1, manager.GetIOSettings())\n",
    "    if not result:\n",
    "        return False    \n",
    "    if importer.IsFBX():\n",
    "        manager.GetIOSettings().SetBoolProp(EXP_FBX_MATERIAL, True)\n",
    "        manager.GetIOSettings().SetBoolProp(EXP_FBX_TEXTURE, True)\n",
    "        manager.GetIOSettings().SetBoolProp(EXP_FBX_EMBEDDED, True)\n",
    "        manager.GetIOSettings().SetBoolProp(EXP_FBX_SHAPE, True)\n",
    "        manager.GetIOSettings().SetBoolProp(EXP_FBX_GOBO, True)\n",
    "        manager.GetIOSettings().SetBoolProp(EXP_FBX_ANIMATION, True)\n",
    "        manager.GetIOSettings().SetBoolProp(EXP_FBX_GLOBAL_SETTINGS, True)\n",
    "    \n",
    "    result = importer.Import(scene)\n",
    "    importer.Destroy()\n",
    "    return result"
   ]
  },
  {
   "cell_type": "code",
   "execution_count": 6,
   "metadata": {},
   "outputs": [],
   "source": [
    "# Prepare the FBX SDK.\n",
    "lSdkManager, lScene = InitializeSdkObjects()"
   ]
  },
  {
   "cell_type": "code",
   "execution_count": 7,
   "metadata": {},
   "outputs": [],
   "source": [
    "lResult = LoadScene(lSdkManager, lScene, \"Track.fbx\")"
   ]
  },
  {
   "cell_type": "code",
   "execution_count": 8,
   "metadata": {},
   "outputs": [],
   "source": [
    " lRootNode = lScene.GetRootNode()"
   ]
  },
  {
   "cell_type": "code",
   "execution_count": 9,
   "metadata": {},
   "outputs": [],
   "source": [
    "def get_node_geometric_transform(node):\n",
    "    t = node.GetGeometricTransformation()"
   ]
  },
  {
   "cell_type": "code",
   "execution_count": 10,
   "metadata": {},
   "outputs": [],
   "source": [
    "def print_node_info(node):\n",
    "    print node.GetName()\n",
    "    print \"=\"\n",
    "    \n",
    "    print \"=\""
   ]
  },
  {
   "cell_type": "code",
   "execution_count": 11,
   "metadata": {},
   "outputs": [],
   "source": [
    "def walk_nodes_aux(node):\n",
    "    for i in range(node.GetChildCount()):\n",
    "        print node.GetChild(i).GetName()\n",
    "        walk_nodes_aux(node.GetChild(i))\n",
    "        \n",
    "def walk_nodes(scene):\n",
    "    root = scene.GetRootNode()\n",
    "    walk_nodes_aux(root)"
   ]
  },
  {
   "cell_type": "code",
   "execution_count": 12,
   "metadata": {},
   "outputs": [
    {
     "name": "stdout",
     "output_type": "stream",
     "text": [
      "Track_Node\n"
     ]
    }
   ],
   "source": [
    "walk_nodes(lScene)"
   ]
  },
  {
   "cell_type": "code",
   "execution_count": 13,
   "metadata": {},
   "outputs": [],
   "source": [
    "lScene.Destroy()"
   ]
  },
  {
   "cell_type": "code",
   "execution_count": 14,
   "metadata": {},
   "outputs": [],
   "source": [
    "scene = create_scene(lSdkManager, \"Generic\")"
   ]
  },
  {
   "cell_type": "code",
   "execution_count": 15,
   "metadata": {},
   "outputs": [
    {
     "data": {
      "text/plain": [
       "True"
      ]
     },
     "execution_count": 15,
     "metadata": {},
     "output_type": "execute_result"
    }
   ],
   "source": [
    "load_scene(lSdkManager, scene, \"GenericMan.fbx\" )"
   ]
  },
  {
   "cell_type": "code",
   "execution_count": 76,
   "metadata": {},
   "outputs": [],
   "source": [
    "root_node = scene.GetRootNode()"
   ]
  },
  {
   "cell_type": "code",
   "execution_count": 77,
   "metadata": {},
   "outputs": [
    {
     "name": "stdout",
     "output_type": "stream",
     "text": [
      "Character\n",
      "Root\n",
      "Waist\n",
      "Left Hip\n",
      "Left Knee\n",
      "Left Foot\n",
      "Right Hip\n",
      "Right Knee\n",
      "Right Foot\n",
      "Middle Spine\n",
      "Neck\n",
      "Left Arm\n",
      "Left Elbow\n",
      "Left Hand\n",
      "Head\n",
      "Right Arm\n",
      "Right Elbow\n",
      "Right Hand\n"
     ]
    }
   ],
   "source": [
    "walk_nodes(scene)"
   ]
  },
  {
   "cell_type": "code",
   "execution_count": 18,
   "metadata": {},
   "outputs": [
    {
     "data": {
      "text/plain": [
       "'FbxTransform()\\nFbxTransform(FbxTransform)'"
      ]
     },
     "execution_count": 18,
     "metadata": {},
     "output_type": "execute_result"
    }
   ],
   "source": [
    "FbxTransform.__doc__"
   ]
  },
  {
   "cell_type": "code",
   "execution_count": 21,
   "metadata": {},
   "outputs": [
    {
     "data": {
      "text/plain": [
       "<fbx.FbxAMatrix at 0x8145c80>"
      ]
     },
     "execution_count": 21,
     "metadata": {},
     "output_type": "execute_result"
    }
   ],
   "source": [
    "root_node.EvaluateGlobalTransform(FbxTime(0.0))"
   ]
  },
  {
   "cell_type": "code",
   "execution_count": 22,
   "metadata": {},
   "outputs": [
    {
     "data": {
      "text/plain": [
       "<fbx.FbxTime at 0x8145bf8>"
      ]
     },
     "execution_count": 22,
     "metadata": {},
     "output_type": "execute_result"
    }
   ],
   "source": [
    "FbxTime(0.0)"
   ]
  },
  {
   "cell_type": "code",
   "execution_count": 23,
   "metadata": {},
   "outputs": [],
   "source": [
    "gt = root_node.GetGeometricTranslation(FbxNode.eSourcePivot)\n",
    "gr = root_node.GetGeometricRotation(FbxNode.eSourcePivot)\n",
    "gs = root_node.GetGeometricScaling(FbxNode.eSourcePivot)"
   ]
  },
  {
   "cell_type": "code",
   "execution_count": 24,
   "metadata": {},
   "outputs": [
    {
     "name": "stdout",
     "output_type": "stream",
     "text": [
      "fbx.FbxVector4(0.000000, 0.000000, 0.000000, 1.000000) fbx.FbxVector4(0.000000, 0.000000, 0.000000, 1.000000) fbx.FbxVector4(1.000000, 1.000000, 1.000000, 1.000000)\n"
     ]
    }
   ],
   "source": [
    "print gt, gr, gs"
   ]
  },
  {
   "cell_type": "code",
   "execution_count": 25,
   "metadata": {},
   "outputs": [
    {
     "data": {
      "text/plain": [
       "<fbx.FbxAMatrix at 0x8145ea0>"
      ]
     },
     "execution_count": 25,
     "metadata": {},
     "output_type": "execute_result"
    }
   ],
   "source": [
    "FbxAMatrix(gt, gr, gs)"
   ]
  },
  {
   "cell_type": "code",
   "execution_count": 26,
   "metadata": {},
   "outputs": [],
   "source": [
    "def get_geometry_transform(node):\n",
    "    gt = node.GetGeometricTranslation(FbxNode.eSourcePivot)\n",
    "    gr = node.GetGeometricRotation(FbxNode.eSourcePivot)\n",
    "    gs = node.GetGeometricScaling(FbxNode.eSourcePivot)\n",
    "    return FbxAMatrix(gt, gr, gs)"
   ]
  },
  {
   "cell_type": "code",
   "execution_count": 27,
   "metadata": {},
   "outputs": [],
   "source": [
    "def get_global_transform(node, time = 0.0):\n",
    "    t = FbxTime(time)\n",
    "    return node.EvaluateGlobalTransform(t)"
   ]
  },
  {
   "cell_type": "code",
   "execution_count": 32,
   "metadata": {},
   "outputs": [],
   "source": [
    "def get_local_transform(node, time = 0.0):\n",
    "    t = FbxTime(time)\n",
    "    return node.EvaluateLocalTransform(t)"
   ]
  },
  {
   "cell_type": "code",
   "execution_count": 33,
   "metadata": {},
   "outputs": [
    {
     "name": "stdout",
     "output_type": "stream",
     "text": [
      "<fbx.FbxAMatrix object at 0x0000000008145C80>\n"
     ]
    }
   ],
   "source": [
    "print get_global_transform(root_node, 0.0)"
   ]
  },
  {
   "cell_type": "code",
   "execution_count": 34,
   "metadata": {},
   "outputs": [],
   "source": [
    "def get_node_transform(node, time = 0.0):\n",
    "    result = get_global_transform(node, time)\n",
    "    if (node.GetNodeAttribute()):\n",
    "        gt = get_geometry_transform(node)\n",
    "        result = result * gt\n",
    "    return result"
   ]
  },
  {
   "cell_type": "code",
   "execution_count": 36,
   "metadata": {},
   "outputs": [
    {
     "name": "stdout",
     "output_type": "stream",
     "text": [
      "<fbx.FbxAMatrix object at 0x0000000008145C80>\n"
     ]
    }
   ],
   "source": [
    "print get_node_transform(root_node, 0.0)"
   ]
  },
  {
   "cell_type": "code",
   "execution_count": 59,
   "metadata": {},
   "outputs": [],
   "source": [
    "def get_node_local_transform(node, time = 0.0):\n",
    "    transform = get_node_transform(node, time)\n",
    "    parent = node.GetParent()\n",
    "    if parent:\n",
    "        parent_transform = get_node_transform(parent, time)\n",
    "        inverse_parent_transform = parent_transform.Inverse()\n",
    "        transform = transform * inverse_parent_transform\n",
    "    return transform"
   ]
  },
  {
   "cell_type": "code",
   "execution_count": 50,
   "metadata": {},
   "outputs": [
    {
     "name": "stdout",
     "output_type": "stream",
     "text": [
      "<fbx.FbxAMatrix object at 0x0000000008145C80>\n"
     ]
    }
   ],
   "source": [
    "print get_node_local_transform(root_node, 0.0)"
   ]
  },
  {
   "cell_type": "code",
   "execution_count": 52,
   "metadata": {},
   "outputs": [
    {
     "data": {
      "text/plain": [
       "2"
      ]
     },
     "execution_count": 52,
     "metadata": {},
     "output_type": "execute_result"
    }
   ],
   "source": [
    "root_node.GetChildCount()"
   ]
  },
  {
   "cell_type": "code",
   "execution_count": 53,
   "metadata": {},
   "outputs": [],
   "source": [
    "child_node = root_node.GetChild(1)"
   ]
  },
  {
   "cell_type": "code",
   "execution_count": 60,
   "metadata": {},
   "outputs": [
    {
     "name": "stdout",
     "output_type": "stream",
     "text": [
      "<fbx.FbxAMatrix object at 0x0000000008291488>\n"
     ]
    }
   ],
   "source": [
    "print get_node_local_transform(child_node, 0.0)"
   ]
  },
  {
   "cell_type": "code",
   "execution_count": 61,
   "metadata": {},
   "outputs": [],
   "source": [
    "def get_node_animated_transform(node, time = 0.0):\n",
    "    global_transform = node.EvaluateGlobalTransform(FbxTime(time))\n",
    "    geometry_transform = get_geometry_transform(node)\n",
    "    return global_transform * geometry_transform\n",
    "                                                   "
   ]
  },
  {
   "cell_type": "code",
   "execution_count": 62,
   "metadata": {},
   "outputs": [
    {
     "name": "stdout",
     "output_type": "stream",
     "text": [
      "<fbx.FbxAMatrix object at 0x0000000008291510>\n"
     ]
    }
   ],
   "source": [
    "print get_node_animated_transform(root_node, 0.5)"
   ]
  },
  {
   "cell_type": "code",
   "execution_count": 63,
   "metadata": {},
   "outputs": [],
   "source": [
    "root_node??"
   ]
  },
  {
   "cell_type": "code",
   "execution_count": 64,
   "metadata": {},
   "outputs": [],
   "source": [
    "scene = root_node.GetScene()"
   ]
  },
  {
   "cell_type": "code",
   "execution_count": 65,
   "metadata": {},
   "outputs": [],
   "source": [
    "scene??"
   ]
  },
  {
   "cell_type": "code",
   "execution_count": 66,
   "metadata": {},
   "outputs": [
    {
     "name": "stdout",
     "output_type": "stream",
     "text": [
      "FbxCollection.FindMember(FbxClassId, str) -> FbxObject\n"
     ]
    }
   ],
   "source": [
    "print scene.FindMember.__doc__"
   ]
  },
  {
   "cell_type": "code",
   "execution_count": 67,
   "metadata": {},
   "outputs": [
    {
     "name": "stdout",
     "output_type": "stream",
     "text": [
      "FbxDocument.FillAnimStackNameArray(FbxStringArray)\n"
     ]
    }
   ],
   "source": [
    "print scene.FillAnimStackNameArray.__doc__"
   ]
  },
  {
   "cell_type": "code",
   "execution_count": 68,
   "metadata": {},
   "outputs": [],
   "source": [
    "string_array = fbx.FbxStringArray()"
   ]
  },
  {
   "cell_type": "code",
   "execution_count": 69,
   "metadata": {},
   "outputs": [],
   "source": [
    "classid = FbxAnimStack.ClassId"
   ]
  },
  {
   "cell_type": "code",
   "execution_count": 70,
   "metadata": {},
   "outputs": [
    {
     "name": "stdout",
     "output_type": "stream",
     "text": [
      "<fbx.FbxClassId object at 0x0000000008145840>\n"
     ]
    }
   ],
   "source": [
    "print classid"
   ]
  },
  {
   "cell_type": "code",
   "execution_count": 71,
   "metadata": {},
   "outputs": [
    {
     "name": "stdout",
     "output_type": "stream",
     "text": [
      "<fbx.FbxAnimEvaluator object at 0x00000000081457B8>\n"
     ]
    }
   ],
   "source": [
    "print scene.GetAnimationEvaluator()"
   ]
  },
  {
   "cell_type": "code",
   "execution_count": 72,
   "metadata": {},
   "outputs": [],
   "source": [
    "idle_anim_stack = scene.FindMember(FbxAnimStack.ClassId, \"Idle\")"
   ]
  },
  {
   "cell_type": "code",
   "execution_count": 73,
   "metadata": {},
   "outputs": [
    {
     "name": "stdout",
     "output_type": "stream",
     "text": [
      "0.0\n"
     ]
    }
   ],
   "source": [
    "print idle_anim_stack.GetReferenceTimeSpan().GetStart().GetSecondDouble()"
   ]
  },
  {
   "cell_type": "code",
   "execution_count": 74,
   "metadata": {},
   "outputs": [],
   "source": [
    "def get_anim_stacks(scene):\n",
    "    anim_stack_classid = FbxAnimStack.ClassId\n",
    "    stack_names = fbx.FbxStringArray()\n",
    "    scene.FillAnimStackNameArray(stack_names)\n",
    "    num_stacks = stack_names.GetCount()\n",
    "    for stack_index in range(0,num_stacks):\n",
    "        anim_name = stack_names[stack_index]\n",
    "        if anim_name == None:\n",
    "            continue\n",
    "        anim_stack = scene.FindMember(anim_stack_classid, anim_name.Buffer())\n",
    "        reference_time_span = anim_stack.GetReferenceTimeSpan()\n",
    "        local_time_span = anim_stack.GetLocalTimeSpan()\n",
    "        print \"Anim Stack \", anim_name\n",
    "        print \"Reference Start, Stop \", anim_stack.GetReferenceTimeSpan().GetStart().GetSecondDouble(), anim_stack.GetReferenceTimeSpan().GetStop().GetSecondDouble()\n",
    "        print \"Local Start, Stop \", anim_stack.GetLocalTimeSpan().GetStart().GetSecondDouble(), anim_stack.GetLocalTimeSpan().GetStop().GetSecondDouble()\n",
    "        \n",
    "        "
   ]
  },
  {
   "cell_type": "code",
   "execution_count": 75,
   "metadata": {},
   "outputs": [
    {
     "name": "stdout",
     "output_type": "stream",
     "text": [
      "Anim Stack  Idle\n",
      "Reference Start, Stop  0.0 1.50000007823\n",
      "Local Start, Stop  0.0 1.50000007823\n",
      "Anim Stack  Walk\n",
      "Reference Start, Stop  0.0 1.80000009386\n",
      "Local Start, Stop  0.0 1.80000009386\n",
      "Anim Stack  Jump\n",
      "Reference Start, Stop  0.0 1.80000009386\n",
      "Local Start, Stop  0.0 1.80000009386\n",
      "Anim Stack  Crouch\n",
      "Reference Start, Stop  0.0 1.80000009386\n",
      "Local Start, Stop  0.0 1.80000009386\n"
     ]
    }
   ],
   "source": [
    "get_anim_stacks(scene)"
   ]
  },
  {
   "cell_type": "code",
   "execution_count": 78,
   "metadata": {},
   "outputs": [
    {
     "name": "stdout",
     "output_type": "stream",
     "text": [
      "None\n"
     ]
    }
   ],
   "source": [
    "print root_node.GetNodeAttribute()\n"
   ]
  },
  {
   "cell_type": "code",
   "execution_count": 83,
   "metadata": {},
   "outputs": [
    {
     "name": "stdout",
     "output_type": "stream",
     "text": [
      "<fbx.FbxClassId object at 0x0000000008291950>\n"
     ]
    }
   ],
   "source": [
    "print FbxLight.ClassId"
   ]
  },
  {
   "cell_type": "code",
   "execution_count": 81,
   "metadata": {},
   "outputs": [
    {
     "name": "stdout",
     "output_type": "stream",
     "text": [
      "<fbx.FbxClassId object at 0x0000000008291950>\n"
     ]
    }
   ],
   "source": [
    "print root_node.GetChild(0).GetNodeAttribute().ClassId"
   ]
  },
  {
   "cell_type": "code",
   "execution_count": 102,
   "metadata": {},
   "outputs": [],
   "source": [
    "def classify_node(node):\n",
    "    kinds = { FbxNodeAttribute.eMarker: \"Marker\",   FbxNodeAttribute.eSkeleton: \"Bone\", FbxNodeAttribute.eMesh: \"Mesh\", FbxNodeAttribute.eNurbs: \"Nurbs\", FbxNodeAttribute.ePatch: \"Patch\", FbxNodeAttribute.eCamera: \"Camera\" }\n",
    "    result = None\n",
    "    result = node.GetNodeAttribute()\n",
    "    if result:\n",
    "        node_kind = result.GetAttributeType()\n",
    "        if kinds.has_key(node_kind):\n",
    "            print \"Is A \", kinds[node_kind]\n",
    "        else:\n",
    "            print \"Unknown Type \", node_kind\n",
    "    return result"
   ]
  },
  {
   "cell_type": "code",
   "execution_count": 103,
   "metadata": {},
   "outputs": [],
   "source": [
    "def walk_nodes_aux(node,fn):\n",
    "    for i in range(node.GetChildCount()):\n",
    "        print node.GetChild(i).GetName()\n",
    "        fn(node.GetChild(i))\n",
    "        walk_nodes_aux(node.GetChild(i), fn)\n",
    "        \n",
    "def walk_nodes(scene, fn):\n",
    "    root = scene.GetRootNode()\n",
    "    fn(root)\n",
    "    walk_nodes_aux(root, fn)"
   ]
  },
  {
   "cell_type": "code",
   "execution_count": 104,
   "metadata": {},
   "outputs": [
    {
     "name": "stdout",
     "output_type": "stream",
     "text": [
      "Character\n",
      "Is A  Mesh\n",
      "Root\n",
      "Is A  Bone\n",
      "Waist\n",
      "Is A  Bone\n",
      "Left Hip\n",
      "Is A  Bone\n",
      "Left Knee\n",
      "Is A  Bone\n",
      "Left Foot\n",
      "Is A  Bone\n",
      "Right Hip\n",
      "Is A  Bone\n",
      "Right Knee\n",
      "Is A  Bone\n",
      "Right Foot\n",
      "Is A  Bone\n",
      "Middle Spine\n",
      "Is A  Bone\n",
      "Neck\n",
      "Is A  Bone\n",
      "Left Arm\n",
      "Is A  Bone\n",
      "Left Elbow\n",
      "Is A  Bone\n",
      "Left Hand\n",
      "Is A  Bone\n",
      "Head\n",
      "Is A  Bone\n",
      "Right Arm\n",
      "Is A  Bone\n",
      "Right Elbow\n",
      "Is A  Bone\n",
      "Right Hand\n",
      "Is A  Bone\n"
     ]
    }
   ],
   "source": [
    "walk_nodes(root_node.GetScene(), classify_node)"
   ]
  },
  {
   "cell_type": "code",
   "execution_count": null,
   "metadata": {},
   "outputs": [],
   "source": []
  },
  {
   "cell_type": "code",
   "execution_count": null,
   "metadata": {},
   "outputs": [],
   "source": []
  }
 ],
 "metadata": {
  "kernelspec": {
   "display_name": "Python 2",
   "language": "python",
   "name": "python2"
  },
  "language_info": {
   "codemirror_mode": {
    "name": "ipython",
    "version": 2
   },
   "file_extension": ".py",
   "mimetype": "text/x-python",
   "name": "python",
   "nbconvert_exporter": "python",
   "pygments_lexer": "ipython2",
   "version": "2.7.13"
  }
 },
 "nbformat": 4,
 "nbformat_minor": 1
}
