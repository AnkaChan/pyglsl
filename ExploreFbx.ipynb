{
 "cells": [
  {
   "cell_type": "code",
   "execution_count": 1,
   "metadata": {
    "collapsed": true
   },
   "outputs": [],
   "source": [
    "import sys\n",
    "import os\n",
    "import math\n",
    "import euclid\n",
    "import mesh\n",
    "import geomgen\n",
    "import fbx"
   ]
  },
  {
   "cell_type": "code",
   "execution_count": 2,
   "metadata": {
    "collapsed": true
   },
   "outputs": [],
   "source": [
    "sys.path = sys.path + [os.curdir + os.sep + \"fbx2018_1\"]    "
   ]
  },
  {
   "cell_type": "code",
   "execution_count": 3,
   "metadata": {
    "collapsed": true
   },
   "outputs": [],
   "source": [
    " from FbxCommon import *"
   ]
  },
  {
   "cell_type": "code",
   "execution_count": 16,
   "metadata": {
    "collapsed": false
   },
   "outputs": [],
   "source": [
    "def create_sdk_manager():\n",
    "    result = FbxManager.Create()\n",
    "    return result\n",
    "\n",
    "def create_scene(manager, name = \"FbxScene\"):\n",
    "    ios = FbxIOSettings.Create(manager, IOSROOT)\n",
    "    manager.SetIOSettings(ios)\n",
    "    scene = FbxScene.Create(manager, name)\n",
    "    return scene\n",
    "\n"
   ]
  },
  {
   "cell_type": "code",
   "execution_count": 27,
   "metadata": {
    "collapsed": false
   },
   "outputs": [],
   "source": [
    "def load_scene(manager, scene, file_name):\n",
    "    importer = FbxImporter.Create(manager, \"\")    \n",
    "    result = importer.Initialize(file_name, -1, manager.GetIOSettings())\n",
    "    if not result:\n",
    "        return False    \n",
    "    if importer.IsFBX():\n",
    "        manager.GetIOSettings().SetBoolProp(EXP_FBX_MATERIAL, True)\n",
    "        manager.GetIOSettings().SetBoolProp(EXP_FBX_TEXTURE, True)\n",
    "        manager.GetIOSettings().SetBoolProp(EXP_FBX_EMBEDDED, True)\n",
    "        manager.GetIOSettings().SetBoolProp(EXP_FBX_SHAPE, True)\n",
    "        manager.GetIOSettings().SetBoolProp(EXP_FBX_GOBO, True)\n",
    "        manager.GetIOSettings().SetBoolProp(EXP_FBX_ANIMATION, True)\n",
    "        manager.GetIOSettings().SetBoolProp(EXP_FBX_GLOBAL_SETTINGS, True)\n",
    "    \n",
    "    result = importer.Import(scene)\n",
    "    importer.Destroy()\n",
    "    return result"
   ]
  },
  {
   "cell_type": "code",
   "execution_count": 4,
   "metadata": {
    "collapsed": true
   },
   "outputs": [],
   "source": [
    "# Prepare the FBX SDK.\n",
    "lSdkManager, lScene = InitializeSdkObjects()"
   ]
  },
  {
   "cell_type": "code",
   "execution_count": 5,
   "metadata": {
    "collapsed": true
   },
   "outputs": [],
   "source": [
    "lResult = LoadScene(lSdkManager, lScene, \"Track.fbx\")"
   ]
  },
  {
   "cell_type": "code",
   "execution_count": 7,
   "metadata": {
    "collapsed": false
   },
   "outputs": [],
   "source": [
    " lRootNode = lScene.GetRootNode()"
   ]
  },
  {
   "cell_type": "code",
   "execution_count": null,
   "metadata": {
    "collapsed": true
   },
   "outputs": [],
   "source": [
    "def get_node_geometric_transform(node):\n",
    "    t = node.GetGeometricTransformation()"
   ]
  },
  {
   "cell_type": "code",
   "execution_count": null,
   "metadata": {
    "collapsed": true
   },
   "outputs": [],
   "source": [
    "def print_node_info(node):\n",
    "    print node.GetName()\n",
    "    print \"=\"\n",
    "    \n",
    "    print \"=\""
   ]
  },
  {
   "cell_type": "code",
   "execution_count": 13,
   "metadata": {
    "collapsed": false
   },
   "outputs": [],
   "source": [
    "def walk_nodes_aux(node):\n",
    "    for i in range(node.GetChildCount()):\n",
    "        print node.GetChild(i).GetName()\n",
    "        walk_nodes_aux(node.GetChild(i))\n",
    "        \n",
    "def walk_nodes(scene):\n",
    "    root = scene.GetRootNode()\n",
    "    walk_nodes_aux(root)"
   ]
  },
  {
   "cell_type": "code",
   "execution_count": 29,
   "metadata": {
    "collapsed": false
   },
   "outputs": [
    {
     "name": "stdout",
     "output_type": "stream",
     "text": [
      "Character\n",
      "Root\n",
      "Waist\n",
      "Left Hip\n",
      "Left Knee\n",
      "Left Foot\n",
      "Right Hip\n",
      "Right Knee\n",
      "Right Foot\n",
      "Middle Spine\n",
      "Neck\n",
      "Left Arm\n",
      "Left Elbow\n",
      "Left Hand\n",
      "Head\n",
      "Right Arm\n",
      "Right Elbow\n",
      "Right Hand\n"
     ]
    }
   ],
   "source": [
    "walk_nodes(scene)"
   ]
  },
  {
   "cell_type": "code",
   "execution_count": 18,
   "metadata": {
    "collapsed": false
   },
   "outputs": [],
   "source": [
    "lScene.Destroy()"
   ]
  },
  {
   "cell_type": "code",
   "execution_count": 19,
   "metadata": {
    "collapsed": true
   },
   "outputs": [],
   "source": [
    "scene = create_scene(lSdkManager, \"Generic\")"
   ]
  },
  {
   "cell_type": "code",
   "execution_count": 28,
   "metadata": {
    "collapsed": false
   },
   "outputs": [
    {
     "data": {
      "text/plain": [
       "True"
      ]
     },
     "execution_count": 28,
     "metadata": {},
     "output_type": "execute_result"
    }
   ],
   "source": [
    "load_scene(lSdkManager, scene, \"GenericMan.fbx\" )"
   ]
  },
  {
   "cell_type": "code",
   "execution_count": 30,
   "metadata": {
    "collapsed": true
   },
   "outputs": [],
   "source": [
    "root_node = scene.GetRootNode()"
   ]
  },
  {
   "cell_type": "code",
   "execution_count": 31,
   "metadata": {
    "collapsed": false
   },
   "outputs": [
    {
     "data": {
      "text/plain": [
       "['AddChild',\n",
       " 'AddMaterial',\n",
       " 'AddNodeAttribute',\n",
       " 'AxisLen',\n",
       " 'ClassId',\n",
       " 'Clone',\n",
       " 'ConnectDstObject',\n",
       " 'ConnectDstProperty',\n",
       " 'ConnectSrcObject',\n",
       " 'ConnectSrcProperty',\n",
       " 'ContentDecrementLockCount',\n",
       " 'ContentIncrementLockCount',\n",
       " 'ContentIsLoaded',\n",
       " 'ContentIsLocked',\n",
       " 'ContentLoad',\n",
       " 'ContentUnload',\n",
       " 'ConvertPivotAnimationRecursive',\n",
       " 'Create',\n",
       " 'DefaultAttributeIndex',\n",
       " 'Destroy',\n",
       " 'DisconnectAllDstObject',\n",
       " 'DisconnectAllSrcObject',\n",
       " 'DisconnectDstObject',\n",
       " 'DisconnectDstProperty',\n",
       " 'DisconnectSrcObject',\n",
       " 'DisconnectSrcProperty',\n",
       " 'ECloneType',\n",
       " 'EObjectFlag',\n",
       " 'EPivotSet',\n",
       " 'EPivotState',\n",
       " 'EShadingMode',\n",
       " 'EvaluateGlobalBoundingBoxMinMaxCenter',\n",
       " 'EvaluateGlobalTransform',\n",
       " 'EvaluateLocalRotation',\n",
       " 'EvaluateLocalScaling',\n",
       " 'EvaluateLocalTransform',\n",
       " 'EvaluateLocalTranslation',\n",
       " 'FindCharacterLink',\n",
       " 'FindChild',\n",
       " 'FindDstObject',\n",
       " 'FindDstProperty',\n",
       " 'FindProperty',\n",
       " 'FindPropertyHierarchical',\n",
       " 'FindSrcObject',\n",
       " 'FindSrcProperty',\n",
       " 'Freeze',\n",
       " 'GeometricRotation',\n",
       " 'GeometricScaling',\n",
       " 'GeometricTranslation',\n",
       " 'GetAllObjectFlags',\n",
       " 'GetAnimationInterval',\n",
       " 'GetCamera',\n",
       " 'GetCameraSwitcher',\n",
       " 'GetCharacterLink',\n",
       " 'GetCharacterLinkCount',\n",
       " 'GetChild',\n",
       " 'GetChildCount',\n",
       " 'GetClassId',\n",
       " 'GetClassRootProperty',\n",
       " 'GetDefaultNodeAttributeIndex',\n",
       " 'GetDocument',\n",
       " 'GetDstObject',\n",
       " 'GetDstObjectCount',\n",
       " 'GetDstProperty',\n",
       " 'GetDstPropertyCount',\n",
       " 'GetFirstProperty',\n",
       " 'GetGeometricRotation',\n",
       " 'GetGeometricScaling',\n",
       " 'GetGeometricTranslation',\n",
       " 'GetGeometry',\n",
       " 'GetInitialName',\n",
       " 'GetLight',\n",
       " 'GetLodGroup',\n",
       " 'GetMarker',\n",
       " 'GetMaterial',\n",
       " 'GetMaterialCount',\n",
       " 'GetMaterialIndex',\n",
       " 'GetMaxDampRange',\n",
       " 'GetMaxDampStrength',\n",
       " 'GetMesh',\n",
       " 'GetMinDampRange',\n",
       " 'GetMinDampStrength',\n",
       " 'GetName',\n",
       " 'GetNameOnly',\n",
       " 'GetNameSpaceArray',\n",
       " 'GetNameSpaceOnly',\n",
       " 'GetNameSpacePrefix',\n",
       " 'GetNameWithNameSpacePrefix',\n",
       " 'GetNameWithoutNameSpacePrefix',\n",
       " 'GetNextProperty',\n",
       " 'GetNodeAttribute',\n",
       " 'GetNodeAttributeByIndex',\n",
       " 'GetNodeAttributeCount',\n",
       " 'GetNodeAttributeIndex',\n",
       " 'GetNull',\n",
       " 'GetNurbs',\n",
       " 'GetNurbsCurve',\n",
       " 'GetNurbsSurface',\n",
       " 'GetObjectFlags',\n",
       " 'GetParent',\n",
       " 'GetPatch',\n",
       " 'GetPivotState',\n",
       " 'GetPostRotation',\n",
       " 'GetPostTargetRotation',\n",
       " 'GetPreRotation',\n",
       " 'GetPreferedAngle',\n",
       " 'GetQuaternionInterpolation',\n",
       " 'GetReferenceTo',\n",
       " 'GetReferencedBy',\n",
       " 'GetReferencedByCount',\n",
       " 'GetRootDocument',\n",
       " 'GetRotationActive',\n",
       " 'GetRotationOffset',\n",
       " 'GetRotationOrder',\n",
       " 'GetRotationPivot',\n",
       " 'GetRotationStiffness',\n",
       " 'GetScalingOffset',\n",
       " 'GetScalingPivot',\n",
       " 'GetScene',\n",
       " 'GetSelected',\n",
       " 'GetShadingMode',\n",
       " 'GetSkeleton',\n",
       " 'GetSrcObject',\n",
       " 'GetSrcObjectCount',\n",
       " 'GetSrcProperty',\n",
       " 'GetSrcPropertyCount',\n",
       " 'GetTarget',\n",
       " 'GetTargetUp',\n",
       " 'GetTargetUpVector',\n",
       " 'GetTransformationInheritType',\n",
       " 'GetTrimNurbsSurface',\n",
       " 'GetTypeFlags',\n",
       " 'GetTypeName',\n",
       " 'GetUniqueID',\n",
       " 'GetUrl',\n",
       " 'GetUseRotationSpaceForLimitOnly',\n",
       " 'GetVisibility',\n",
       " 'InheritType',\n",
       " 'IsAReferenceTo',\n",
       " 'IsConnectedDstObject',\n",
       " 'IsConnectedDstProperty',\n",
       " 'IsConnectedSrcObject',\n",
       " 'IsConnectedSrcProperty',\n",
       " 'IsReferencedBy',\n",
       " 'LODBox',\n",
       " 'LclRotation',\n",
       " 'LclScaling',\n",
       " 'LclTranslation',\n",
       " 'Localize',\n",
       " 'LookAtProperty',\n",
       " 'MaxDampRangeX',\n",
       " 'MaxDampRangeY',\n",
       " 'MaxDampRangeZ',\n",
       " 'MaxDampStrengthX',\n",
       " 'MaxDampStrengthY',\n",
       " 'MaxDampStrengthZ',\n",
       " 'MinDampRangeX',\n",
       " 'MinDampRangeY',\n",
       " 'MinDampRangeZ',\n",
       " 'MinDampStrengthX',\n",
       " 'MinDampStrengthY',\n",
       " 'MinDampStrengthZ',\n",
       " 'NegativePercentShapeSupport',\n",
       " 'PostRotation',\n",
       " 'PreRotation',\n",
       " 'PreferedAngleX',\n",
       " 'PreferedAngleY',\n",
       " 'PreferedAngleZ',\n",
       " 'QuaternionInterpolate',\n",
       " 'RemoveAllMaterials',\n",
       " 'RemoveChild',\n",
       " 'RemoveMaterial',\n",
       " 'RemoveNodeAttribute',\n",
       " 'RemoveNodeAttributeByIndex',\n",
       " 'RemovePrefix',\n",
       " 'ResetPivotSet',\n",
       " 'RootProperty',\n",
       " 'RotationActive',\n",
       " 'RotationMax',\n",
       " 'RotationMaxX',\n",
       " 'RotationMaxY',\n",
       " 'RotationMaxZ',\n",
       " 'RotationMin',\n",
       " 'RotationMinX',\n",
       " 'RotationMinY',\n",
       " 'RotationMinZ',\n",
       " 'RotationOffset',\n",
       " 'RotationOrder',\n",
       " 'RotationPivot',\n",
       " 'RotationSpaceForLimitOnly',\n",
       " 'RotationStiffnessX',\n",
       " 'RotationStiffnessY',\n",
       " 'RotationStiffnessZ',\n",
       " 'ScalingActive',\n",
       " 'ScalingMax',\n",
       " 'ScalingMaxX',\n",
       " 'ScalingMaxY',\n",
       " 'ScalingMaxZ',\n",
       " 'ScalingMin',\n",
       " 'ScalingMinX',\n",
       " 'ScalingMinY',\n",
       " 'ScalingMinZ',\n",
       " 'ScalingOffset',\n",
       " 'ScalingPivot',\n",
       " 'SetAllObjectFlags',\n",
       " 'SetDefaultNodeAttributeIndex',\n",
       " 'SetDocument',\n",
       " 'SetGeometricRotation',\n",
       " 'SetGeometricScaling',\n",
       " 'SetGeometricTranslation',\n",
       " 'SetInitialName',\n",
       " 'SetMaxDampRange',\n",
       " 'SetMaxDampStrength',\n",
       " 'SetMinDampRange',\n",
       " 'SetMinDampStrength',\n",
       " 'SetName',\n",
       " 'SetNameSpace',\n",
       " 'SetNodeAttribute',\n",
       " 'SetObjectFlags',\n",
       " 'SetPivotState',\n",
       " 'SetPostRotation',\n",
       " 'SetPostTargetRotation',\n",
       " 'SetPreRotation',\n",
       " 'SetPreferedAngle',\n",
       " 'SetQuaternionInterpolation',\n",
       " 'SetRotationActive',\n",
       " 'SetRotationOffset',\n",
       " 'SetRotationOrder',\n",
       " 'SetRotationPivot',\n",
       " 'SetRotationStiffness',\n",
       " 'SetScalingOffset',\n",
       " 'SetScalingPivot',\n",
       " 'SetSelected',\n",
       " 'SetShadingMode',\n",
       " 'SetTarget',\n",
       " 'SetTargetUp',\n",
       " 'SetTargetUpVector',\n",
       " 'SetTransformationInheritType',\n",
       " 'SetUrl',\n",
       " 'SetUseRotationSpaceForLimitOnly',\n",
       " 'SetVisibility',\n",
       " 'Show',\n",
       " 'StripPrefix',\n",
       " 'TranslationActive',\n",
       " 'TranslationMax',\n",
       " 'TranslationMaxX',\n",
       " 'TranslationMaxY',\n",
       " 'TranslationMaxZ',\n",
       " 'TranslationMin',\n",
       " 'TranslationMinX',\n",
       " 'TranslationMinY',\n",
       " 'TranslationMinZ',\n",
       " 'UpVectorProperty',\n",
       " 'Visibility',\n",
       " 'VisibilityInheritance',\n",
       " '__class__',\n",
       " '__delattr__',\n",
       " '__dict__',\n",
       " '__doc__',\n",
       " '__eq__',\n",
       " '__format__',\n",
       " '__ge__',\n",
       " '__getattribute__',\n",
       " '__gt__',\n",
       " '__hash__',\n",
       " '__init__',\n",
       " '__le__',\n",
       " '__lt__',\n",
       " '__module__',\n",
       " '__ne__',\n",
       " '__new__',\n",
       " '__reduce__',\n",
       " '__reduce_ex__',\n",
       " '__repr__',\n",
       " '__setattr__',\n",
       " '__sizeof__',\n",
       " '__str__',\n",
       " '__subclasshook__',\n",
       " '__weakref__',\n",
       " 'eContentLoaded',\n",
       " 'eDeepClone',\n",
       " 'eDestinationPivot',\n",
       " 'eDontLocalize',\n",
       " 'eFlatShading',\n",
       " 'eFullShading',\n",
       " 'eHardShading',\n",
       " 'eHidden',\n",
       " 'eInitialized',\n",
       " 'eLightShading',\n",
       " 'eNone',\n",
       " 'ePivotActive',\n",
       " 'ePivotReference',\n",
       " 'eReferenceClone',\n",
       " 'eSavable',\n",
       " 'eSelected',\n",
       " 'eSourcePivot',\n",
       " 'eSystem',\n",
       " 'eTextureShading',\n",
       " 'eWireFrame']"
      ]
     },
     "execution_count": 31,
     "metadata": {},
     "output_type": "execute_result"
    }
   ],
   "source": [
    "dir(root_node)"
   ]
  },
  {
   "cell_type": "code",
   "execution_count": 32,
   "metadata": {
    "collapsed": false
   },
   "outputs": [
    {
     "data": {
      "text/plain": [
       "'FbxTransform()\\nFbxTransform(FbxTransform)'"
      ]
     },
     "execution_count": 32,
     "metadata": {},
     "output_type": "execute_result"
    }
   ],
   "source": [
    "FbxTransform.__doc__"
   ]
  },
  {
   "cell_type": "code",
   "execution_count": 33,
   "metadata": {
    "collapsed": false
   },
   "outputs": [
    {
     "data": {
      "text/plain": [
       "['DoF2LRM',\n",
       " 'DoF2LT',\n",
       " 'EInheritType',\n",
       " 'GTRSM2GX',\n",
       " 'GetInheritType',\n",
       " 'GetRotationLimits',\n",
       " 'GetRotationOrder',\n",
       " 'GetRotationSpaceForLimitOnly',\n",
       " 'GetScalingLimits',\n",
       " 'GetTranslationLimits',\n",
       " 'HasPostRM',\n",
       " 'HasPreRM',\n",
       " 'HasROffset',\n",
       " 'HasRPivot',\n",
       " 'HasSOffset',\n",
       " 'HasSPivot',\n",
       " 'LRM2DoF',\n",
       " 'LSM2GSM',\n",
       " 'LT2DoF',\n",
       " 'SetInheritType',\n",
       " 'SetPostRM',\n",
       " 'SetPreRM',\n",
       " 'SetROffset',\n",
       " 'SetRPivot',\n",
       " 'SetRotationSpaceForLimitOnly',\n",
       " 'SetSOffset',\n",
       " 'SetSPivot',\n",
       " '__class__',\n",
       " '__delattr__',\n",
       " '__dict__',\n",
       " '__doc__',\n",
       " '__format__',\n",
       " '__getattribute__',\n",
       " '__hash__',\n",
       " '__init__',\n",
       " '__module__',\n",
       " '__new__',\n",
       " '__reduce__',\n",
       " '__reduce_ex__',\n",
       " '__repr__',\n",
       " '__setattr__',\n",
       " '__sizeof__',\n",
       " '__str__',\n",
       " '__subclasshook__',\n",
       " '__weakref__',\n",
       " 'eInheritRSrs',\n",
       " 'eInheritRrSs',\n",
       " 'eInheritRrs']"
      ]
     },
     "execution_count": 33,
     "metadata": {},
     "output_type": "execute_result"
    }
   ],
   "source": [
    "dir(FbxTransform)"
   ]
  },
  {
   "cell_type": "code",
   "execution_count": 37,
   "metadata": {
    "collapsed": false
   },
   "outputs": [
    {
     "data": {
      "text/plain": [
       "<fbx.FbxAMatrix at 0x4d38598>"
      ]
     },
     "execution_count": 37,
     "metadata": {},
     "output_type": "execute_result"
    }
   ],
   "source": [
    "root_node.EvaluateGlobalTransform(FbxTime(0.0))"
   ]
  },
  {
   "cell_type": "code",
   "execution_count": 36,
   "metadata": {
    "collapsed": false
   },
   "outputs": [
    {
     "data": {
      "text/plain": [
       "<fbx.FbxTime at 0x4b6fd90>"
      ]
     },
     "execution_count": 36,
     "metadata": {},
     "output_type": "execute_result"
    }
   ],
   "source": [
    "FbxTime(0.0)"
   ]
  },
  {
   "cell_type": "code",
   "execution_count": 38,
   "metadata": {
    "collapsed": true
   },
   "outputs": [],
   "source": [
    "gt = root_node.GetGeometricTranslation(FbxNode.eSourcePivot)\n",
    "gr = root_node.GetGeometricRotation(FbxNode.eSourcePivot)\n",
    "gs = root_node.GetGeometricScaling(FbxNode.eSourcePivot)"
   ]
  },
  {
   "cell_type": "code",
   "execution_count": 40,
   "metadata": {
    "collapsed": false
   },
   "outputs": [
    {
     "name": "stdout",
     "output_type": "stream",
     "text": [
      "fbx.FbxVector4(0.000000, 0.000000, 0.000000, 1.000000) fbx.FbxVector4(0.000000, 0.000000, 0.000000, 1.000000) fbx.FbxVector4(1.000000, 1.000000, 1.000000, 1.000000)\n"
     ]
    }
   ],
   "source": [
    "print gt, gr, gs"
   ]
  },
  {
   "cell_type": "code",
   "execution_count": 41,
   "metadata": {
    "collapsed": false
   },
   "outputs": [
    {
     "data": {
      "text/plain": [
       "<fbx.FbxAMatrix at 0x4d38730>"
      ]
     },
     "execution_count": 41,
     "metadata": {},
     "output_type": "execute_result"
    }
   ],
   "source": [
    "FbxAMatrix(gt, gr, gs)"
   ]
  },
  {
   "cell_type": "code",
   "execution_count": 43,
   "metadata": {
    "collapsed": true
   },
   "outputs": [],
   "source": [
    "def get_geometry_transform(node):\n",
    "    gt = node.GetGeometricTranslation(FbxNode.eSourcePivot)\n",
    "    gr = node.GetGeometricRotation(FbxNode.eSourcePivot)\n",
    "    gs = node.GetGeometricScaling(FbxNode.eSourcePivot)\n",
    "    return FbxAMatrix(gt, gr, gs)"
   ]
  },
  {
   "cell_type": "code",
   "execution_count": 65,
   "metadata": {
    "collapsed": true
   },
   "outputs": [],
   "source": [
    "def get_global_transform(node, time = 0.0):\n",
    "    t = FbxTime(time)\n",
    "    return node.EvaluateGlobalTransform(t)"
   ]
  },
  {
   "cell_type": "code",
   "execution_count": 66,
   "metadata": {
    "collapsed": true
   },
   "outputs": [],
   "source": [
    "def get_local_transform(node, time = 0.0):\n",
    "    t = FbxTime(time)\n",
    "    return node.EvaluateLocalTransform(t)"
   ]
  },
  {
   "cell_type": "code",
   "execution_count": 56,
   "metadata": {
    "collapsed": false
   },
   "outputs": [
    {
     "name": "stdout",
     "output_type": "stream",
     "text": [
      "None\n"
     ]
    }
   ],
   "source": [
    "print root_node.GetNodeAttribute()"
   ]
  },
  {
   "cell_type": "code",
   "execution_count": 67,
   "metadata": {
    "collapsed": false
   },
   "outputs": [],
   "source": [
    "def get_node_transform(node, time = 0.0):\n",
    "    result = get_global_transform(node, time)\n",
    "    if (node.GetNodeAttribute()):\n",
    "        gt = get_geometry_transform(node)\n",
    "        result = result * gt\n",
    "    return result"
   ]
  },
  {
   "cell_type": "code",
   "execution_count": 68,
   "metadata": {
    "collapsed": false
   },
   "outputs": [
    {
     "name": "stdout",
     "output_type": "stream",
     "text": [
      "<fbx.FbxAMatrix object at 0x0000000004D38598>\n"
     ]
    }
   ],
   "source": [
    "print get_node_transform(root_node)"
   ]
  },
  {
   "cell_type": "code",
   "execution_count": null,
   "metadata": {
    "collapsed": true
   },
   "outputs": [],
   "source": []
  }
 ],
 "metadata": {
  "kernelspec": {
   "display_name": "Python 2",
   "language": "python",
   "name": "python2"
  },
  "language_info": {
   "codemirror_mode": {
    "name": "ipython",
    "version": 2
   },
   "file_extension": ".py",
   "mimetype": "text/x-python",
   "name": "python",
   "nbconvert_exporter": "python",
   "pygments_lexer": "ipython2",
   "version": "2.7.10"
  }
 },
 "nbformat": 4,
 "nbformat_minor": 0
}
